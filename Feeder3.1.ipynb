{
  "nbformat": 4,
  "nbformat_minor": 0,
  "metadata": {
    "colab": {
      "provenance": []
    },
    "kernelspec": {
      "name": "python3",
      "display_name": "Python 3"
    },
    "language_info": {
      "name": "python"
    }
  },
  "cells": [
    {
      "cell_type": "markdown",
      "source": [
        "# **Overview** 📚\n"
      ],
      "metadata": {
        "id": "Bnfr3KJjRcXO"
      }
    },
    {
      "cell_type": "markdown",
      "source": [
        "This python notebook outlines the methods and steps taken to compile a focused subset from the following dataset: *Cooling_Boiler_Generator_Data_Summary_2023.csv*. This subset highlights temperature efficiency data throughout generator systems. The process includes filtering by system type, column type, and data importation and exportation.\n",
        "\n",
        "\n",
        "Our main goal is to efficiently extract the data corresponding to utility and generator systems, focusing on variables like temperature output."
      ],
      "metadata": {
        "id": "Wftba68ZP3uo"
      }
    },
    {
      "cell_type": "markdown",
      "source": [
        "# **Getting Started!** ✅\n",
        "\n",
        "The required files needed to reproduce this process:\n",
        "\n",
        "*   *Cooling_Boiler_Generator_Data_Summary_2023.csv*\n",
        "\n",
        "After downloading the file to your device, you can upload it to a Google CoLab notebook by manually uploading it through the file explorer interface. If the file is accessible through Google Drive, run the code below:\n",
        "\n",
        "(you will be asked to grant Google Drive permission to complete this step)"
      ],
      "metadata": {
        "id": "kjss8Z1HRp-K"
      }
    },
    {
      "cell_type": "code",
      "source": [
        "# Mount Google Drive\n",
        "from google.colab import drive\n",
        "drive.mount('/content/drive')\n",
        "\n",
        "# Assuming your file is in 'My Drive/data/Cooling_Boiler_Generator_Data_Summary_2023.csv'\n",
        "file_path = '/content/drive/My Drive/data/Cooling_Boiler_Generator_Data_Summary_2023.csv'"
      ],
      "metadata": {
        "colab": {
          "base_uri": "https://localhost:8080/"
        },
        "id": "rCaQJ3RKSO6W",
        "outputId": "f649a806-eac3-477d-b224-9e5736dfc023"
      },
      "execution_count": null,
      "outputs": [
        {
          "output_type": "stream",
          "name": "stdout",
          "text": [
            "Drive already mounted at /content/drive; to attempt to forcibly remount, call drive.mount(\"/content/drive\", force_remount=True).\n"
          ]
        }
      ]
    },
    {
      "cell_type": "markdown",
      "source": [
        "# **Step 1: Import Libraries** ✅\n",
        "\n",
        "We begin this process by importing the appropriate libraries necessary to handle this data efficiently. Run the code below to complete this step:"
      ],
      "metadata": {
        "id": "q2SaZ3qFTIrj"
      }
    },
    {
      "cell_type": "code",
      "source": [
        "import pandas as pd #pandas will allow us to read and manipulate a CSV file\n",
        "import numpy as np #numpy is most commonly used for quantitative analysis"
      ],
      "metadata": {
        "id": "S_G7HCv6TJ6f"
      },
      "execution_count": null,
      "outputs": []
    },
    {
      "cell_type": "markdown",
      "source": [
        "# **Step 2: Load the Dataset** ✅\n",
        "\n",
        "In order to begin the processing, it is required for us to load the dataset into memory as a DataFrame, which is a two-dimensional data structure (similar to a table).\n",
        "\n",
        "You can see what this structure looks like after running the code below:"
      ],
      "metadata": {
        "id": "EWethaAKUIyy"
      }
    },
    {
      "cell_type": "code",
      "source": [
        "df = pd.read_csv('Cooling_Boiler_Generator_Data_Summary_2023.csv') #read.csv reads the file into a DataFrame\n",
        "df.head() #head() displays the first few rows of the dataset"
      ],
      "metadata": {
        "colab": {
          "base_uri": "https://localhost:8080/",
          "height": 474
        },
        "id": "sb96KHe6Uj9H",
        "outputId": "38b3f2b7-4fb0-4942-e51f-0e549f06c71e"
      },
      "execution_count": null,
      "outputs": [
        {
          "output_type": "stream",
          "name": "stderr",
          "text": [
            "<ipython-input-10-edb306ef18ba>:1: DtypeWarning: Columns (0,2,4,5,46,47,48,49,56,57,58,59,65,66,67,68) have mixed types. Specify dtype option on import or set low_memory=False.\n",
            "  df = pd.read_csv('Cooling_Boiler_Generator_Data_Summary_2023.csv') #read.csv reads the file into a DataFrame\n"
          ]
        },
        {
          "output_type": "execute_result",
          "data": {
            "text/plain": [
              "                               Unnamed: 1  Unnamed: 2  Unnamed: 3 Unnamed: 4  \\\n",
              "0                          NaN        NaN         NaN         NaN        NaN   \n",
              "1  \\n \\n \\n \\n \\n \\nUtility ID      State  Plant Code  Plant Name       Year   \n",
              "2                          195         AL           3       Barry       2023   \n",
              "3                          195         AL           3       Barry       2023   \n",
              "4                          195         AL           3       Barry       2023   \n",
              "\n",
              "  Unnamed: 5    Unnamed: 6 Unnamed: 7  Unnamed: 8  \\\n",
              "0        NaN           NaN        NaN         NaN   \n",
              "1      Month  Generator ID  Boiler ID  Cooling ID   \n",
              "2          1          Many       Many         1-3   \n",
              "3          2          Many       Many         1-3   \n",
              "4          3          Many       Many         1-3   \n",
              "\n",
              "                     Unnamed: 9  ...                         Unnamed: 60  \\\n",
              "0                           NaN  ...                                 NaN   \n",
              "1  Generator Primary Technology  ...  Combined Heat and Power Generator?   \n",
              "2     Natural Gas Steam Turbine  ...                                   N   \n",
              "3     Natural Gas Steam Turbine  ...                                   N   \n",
              "4     Natural Gas Steam Turbine  ...                                   N   \n",
              "\n",
              "                            Unnamed: 61                 Unnamed: 62  \\\n",
              "0                                   NaN                         NaN   \n",
              "1  Generator Primary Energy Source Code  Generator Prime Mover Code   \n",
              "2                                    NG                          ST   \n",
              "3                                    NG                          ST   \n",
              "4                                    NG                          ST   \n",
              "\n",
              "               Unnamed: 63       Unnamed: 64       Unnamed: 65  \\\n",
              "0                      NaN               NaN               NaN   \n",
              "1  Generator Duct Burners?            Sector  Steam Plant Type   \n",
              "2                      NaN  Electric Utility                 1   \n",
              "3                      NaN  Electric Utility                 1   \n",
              "4                      NaN  Electric Utility                 1   \n",
              "\n",
              "                  Unnamed: 66              Unnamed: 67  \\\n",
              "0                         NaN                      NaN   \n",
              "1  Number Operable Generators  Number Operable Boilers   \n",
              "2                           2                        2   \n",
              "3                           2                        2   \n",
              "4                           2                        2   \n",
              "\n",
              "                       Unnamed: 68        Unnamed: 69  \n",
              "0                              NaN                NaN  \n",
              "1  Number Operable Cooling Systems  Relationship Type  \n",
              "2                                1           1C MB MG  \n",
              "3                                1           1C MB MG  \n",
              "4                                1           1C MB MG  \n",
              "\n",
              "[5 rows x 70 columns]"
            ],
            "text/html": [
              "\n",
              "  <div id=\"df-777e044c-ca07-4c70-a2a1-e6359cf1c0e4\" class=\"colab-df-container\">\n",
              "    <div>\n",
              "<style scoped>\n",
              "    .dataframe tbody tr th:only-of-type {\n",
              "        vertical-align: middle;\n",
              "    }\n",
              "\n",
              "    .dataframe tbody tr th {\n",
              "        vertical-align: top;\n",
              "    }\n",
              "\n",
              "    .dataframe thead th {\n",
              "        text-align: right;\n",
              "    }\n",
              "</style>\n",
              "<table border=\"1\" class=\"dataframe\">\n",
              "  <thead>\n",
              "    <tr style=\"text-align: right;\">\n",
              "      <th></th>\n",
              "      <th></th>\n",
              "      <th>Unnamed: 1</th>\n",
              "      <th>Unnamed: 2</th>\n",
              "      <th>Unnamed: 3</th>\n",
              "      <th>Unnamed: 4</th>\n",
              "      <th>Unnamed: 5</th>\n",
              "      <th>Unnamed: 6</th>\n",
              "      <th>Unnamed: 7</th>\n",
              "      <th>Unnamed: 8</th>\n",
              "      <th>Unnamed: 9</th>\n",
              "      <th>...</th>\n",
              "      <th>Unnamed: 60</th>\n",
              "      <th>Unnamed: 61</th>\n",
              "      <th>Unnamed: 62</th>\n",
              "      <th>Unnamed: 63</th>\n",
              "      <th>Unnamed: 64</th>\n",
              "      <th>Unnamed: 65</th>\n",
              "      <th>Unnamed: 66</th>\n",
              "      <th>Unnamed: 67</th>\n",
              "      <th>Unnamed: 68</th>\n",
              "      <th>Unnamed: 69</th>\n",
              "    </tr>\n",
              "  </thead>\n",
              "  <tbody>\n",
              "    <tr>\n",
              "      <th>0</th>\n",
              "      <td>NaN</td>\n",
              "      <td>NaN</td>\n",
              "      <td>NaN</td>\n",
              "      <td>NaN</td>\n",
              "      <td>NaN</td>\n",
              "      <td>NaN</td>\n",
              "      <td>NaN</td>\n",
              "      <td>NaN</td>\n",
              "      <td>NaN</td>\n",
              "      <td>NaN</td>\n",
              "      <td>...</td>\n",
              "      <td>NaN</td>\n",
              "      <td>NaN</td>\n",
              "      <td>NaN</td>\n",
              "      <td>NaN</td>\n",
              "      <td>NaN</td>\n",
              "      <td>NaN</td>\n",
              "      <td>NaN</td>\n",
              "      <td>NaN</td>\n",
              "      <td>NaN</td>\n",
              "      <td>NaN</td>\n",
              "    </tr>\n",
              "    <tr>\n",
              "      <th>1</th>\n",
              "      <td>\\n \\n \\n \\n \\n \\nUtility ID</td>\n",
              "      <td>State</td>\n",
              "      <td>Plant Code</td>\n",
              "      <td>Plant Name</td>\n",
              "      <td>Year</td>\n",
              "      <td>Month</td>\n",
              "      <td>Generator ID</td>\n",
              "      <td>Boiler ID</td>\n",
              "      <td>Cooling ID</td>\n",
              "      <td>Generator Primary Technology</td>\n",
              "      <td>...</td>\n",
              "      <td>Combined Heat and Power Generator?</td>\n",
              "      <td>Generator Primary Energy Source Code</td>\n",
              "      <td>Generator Prime Mover Code</td>\n",
              "      <td>Generator Duct Burners?</td>\n",
              "      <td>Sector</td>\n",
              "      <td>Steam Plant Type</td>\n",
              "      <td>Number Operable Generators</td>\n",
              "      <td>Number Operable Boilers</td>\n",
              "      <td>Number Operable Cooling Systems</td>\n",
              "      <td>Relationship Type</td>\n",
              "    </tr>\n",
              "    <tr>\n",
              "      <th>2</th>\n",
              "      <td>195</td>\n",
              "      <td>AL</td>\n",
              "      <td>3</td>\n",
              "      <td>Barry</td>\n",
              "      <td>2023</td>\n",
              "      <td>1</td>\n",
              "      <td>Many</td>\n",
              "      <td>Many</td>\n",
              "      <td>1-3</td>\n",
              "      <td>Natural Gas Steam Turbine</td>\n",
              "      <td>...</td>\n",
              "      <td>N</td>\n",
              "      <td>NG</td>\n",
              "      <td>ST</td>\n",
              "      <td>NaN</td>\n",
              "      <td>Electric Utility</td>\n",
              "      <td>1</td>\n",
              "      <td>2</td>\n",
              "      <td>2</td>\n",
              "      <td>1</td>\n",
              "      <td>1C MB MG</td>\n",
              "    </tr>\n",
              "    <tr>\n",
              "      <th>3</th>\n",
              "      <td>195</td>\n",
              "      <td>AL</td>\n",
              "      <td>3</td>\n",
              "      <td>Barry</td>\n",
              "      <td>2023</td>\n",
              "      <td>2</td>\n",
              "      <td>Many</td>\n",
              "      <td>Many</td>\n",
              "      <td>1-3</td>\n",
              "      <td>Natural Gas Steam Turbine</td>\n",
              "      <td>...</td>\n",
              "      <td>N</td>\n",
              "      <td>NG</td>\n",
              "      <td>ST</td>\n",
              "      <td>NaN</td>\n",
              "      <td>Electric Utility</td>\n",
              "      <td>1</td>\n",
              "      <td>2</td>\n",
              "      <td>2</td>\n",
              "      <td>1</td>\n",
              "      <td>1C MB MG</td>\n",
              "    </tr>\n",
              "    <tr>\n",
              "      <th>4</th>\n",
              "      <td>195</td>\n",
              "      <td>AL</td>\n",
              "      <td>3</td>\n",
              "      <td>Barry</td>\n",
              "      <td>2023</td>\n",
              "      <td>3</td>\n",
              "      <td>Many</td>\n",
              "      <td>Many</td>\n",
              "      <td>1-3</td>\n",
              "      <td>Natural Gas Steam Turbine</td>\n",
              "      <td>...</td>\n",
              "      <td>N</td>\n",
              "      <td>NG</td>\n",
              "      <td>ST</td>\n",
              "      <td>NaN</td>\n",
              "      <td>Electric Utility</td>\n",
              "      <td>1</td>\n",
              "      <td>2</td>\n",
              "      <td>2</td>\n",
              "      <td>1</td>\n",
              "      <td>1C MB MG</td>\n",
              "    </tr>\n",
              "  </tbody>\n",
              "</table>\n",
              "<p>5 rows × 70 columns</p>\n",
              "</div>\n",
              "    <div class=\"colab-df-buttons\">\n",
              "\n",
              "  <div class=\"colab-df-container\">\n",
              "    <button class=\"colab-df-convert\" onclick=\"convertToInteractive('df-777e044c-ca07-4c70-a2a1-e6359cf1c0e4')\"\n",
              "            title=\"Convert this dataframe to an interactive table.\"\n",
              "            style=\"display:none;\">\n",
              "\n",
              "  <svg xmlns=\"http://www.w3.org/2000/svg\" height=\"24px\" viewBox=\"0 -960 960 960\">\n",
              "    <path d=\"M120-120v-720h720v720H120Zm60-500h600v-160H180v160Zm220 220h160v-160H400v160Zm0 220h160v-160H400v160ZM180-400h160v-160H180v160Zm440 0h160v-160H620v160ZM180-180h160v-160H180v160Zm440 0h160v-160H620v160Z\"/>\n",
              "  </svg>\n",
              "    </button>\n",
              "\n",
              "  <style>\n",
              "    .colab-df-container {\n",
              "      display:flex;\n",
              "      gap: 12px;\n",
              "    }\n",
              "\n",
              "    .colab-df-convert {\n",
              "      background-color: #E8F0FE;\n",
              "      border: none;\n",
              "      border-radius: 50%;\n",
              "      cursor: pointer;\n",
              "      display: none;\n",
              "      fill: #1967D2;\n",
              "      height: 32px;\n",
              "      padding: 0 0 0 0;\n",
              "      width: 32px;\n",
              "    }\n",
              "\n",
              "    .colab-df-convert:hover {\n",
              "      background-color: #E2EBFA;\n",
              "      box-shadow: 0px 1px 2px rgba(60, 64, 67, 0.3), 0px 1px 3px 1px rgba(60, 64, 67, 0.15);\n",
              "      fill: #174EA6;\n",
              "    }\n",
              "\n",
              "    .colab-df-buttons div {\n",
              "      margin-bottom: 4px;\n",
              "    }\n",
              "\n",
              "    [theme=dark] .colab-df-convert {\n",
              "      background-color: #3B4455;\n",
              "      fill: #D2E3FC;\n",
              "    }\n",
              "\n",
              "    [theme=dark] .colab-df-convert:hover {\n",
              "      background-color: #434B5C;\n",
              "      box-shadow: 0px 1px 3px 1px rgba(0, 0, 0, 0.15);\n",
              "      filter: drop-shadow(0px 1px 2px rgba(0, 0, 0, 0.3));\n",
              "      fill: #FFFFFF;\n",
              "    }\n",
              "  </style>\n",
              "\n",
              "    <script>\n",
              "      const buttonEl =\n",
              "        document.querySelector('#df-777e044c-ca07-4c70-a2a1-e6359cf1c0e4 button.colab-df-convert');\n",
              "      buttonEl.style.display =\n",
              "        google.colab.kernel.accessAllowed ? 'block' : 'none';\n",
              "\n",
              "      async function convertToInteractive(key) {\n",
              "        const element = document.querySelector('#df-777e044c-ca07-4c70-a2a1-e6359cf1c0e4');\n",
              "        const dataTable =\n",
              "          await google.colab.kernel.invokeFunction('convertToInteractive',\n",
              "                                                    [key], {});\n",
              "        if (!dataTable) return;\n",
              "\n",
              "        const docLinkHtml = 'Like what you see? Visit the ' +\n",
              "          '<a target=\"_blank\" href=https://colab.research.google.com/notebooks/data_table.ipynb>data table notebook</a>'\n",
              "          + ' to learn more about interactive tables.';\n",
              "        element.innerHTML = '';\n",
              "        dataTable['output_type'] = 'display_data';\n",
              "        await google.colab.output.renderOutput(dataTable, element);\n",
              "        const docLink = document.createElement('div');\n",
              "        docLink.innerHTML = docLinkHtml;\n",
              "        element.appendChild(docLink);\n",
              "      }\n",
              "    </script>\n",
              "  </div>\n",
              "\n",
              "\n",
              "<div id=\"df-abb1a680-a7de-486d-b0bf-44a3cc723301\">\n",
              "  <button class=\"colab-df-quickchart\" onclick=\"quickchart('df-abb1a680-a7de-486d-b0bf-44a3cc723301')\"\n",
              "            title=\"Suggest charts\"\n",
              "            style=\"display:none;\">\n",
              "\n",
              "<svg xmlns=\"http://www.w3.org/2000/svg\" height=\"24px\"viewBox=\"0 0 24 24\"\n",
              "     width=\"24px\">\n",
              "    <g>\n",
              "        <path d=\"M19 3H5c-1.1 0-2 .9-2 2v14c0 1.1.9 2 2 2h14c1.1 0 2-.9 2-2V5c0-1.1-.9-2-2-2zM9 17H7v-7h2v7zm4 0h-2V7h2v10zm4 0h-2v-4h2v4z\"/>\n",
              "    </g>\n",
              "</svg>\n",
              "  </button>\n",
              "\n",
              "<style>\n",
              "  .colab-df-quickchart {\n",
              "      --bg-color: #E8F0FE;\n",
              "      --fill-color: #1967D2;\n",
              "      --hover-bg-color: #E2EBFA;\n",
              "      --hover-fill-color: #174EA6;\n",
              "      --disabled-fill-color: #AAA;\n",
              "      --disabled-bg-color: #DDD;\n",
              "  }\n",
              "\n",
              "  [theme=dark] .colab-df-quickchart {\n",
              "      --bg-color: #3B4455;\n",
              "      --fill-color: #D2E3FC;\n",
              "      --hover-bg-color: #434B5C;\n",
              "      --hover-fill-color: #FFFFFF;\n",
              "      --disabled-bg-color: #3B4455;\n",
              "      --disabled-fill-color: #666;\n",
              "  }\n",
              "\n",
              "  .colab-df-quickchart {\n",
              "    background-color: var(--bg-color);\n",
              "    border: none;\n",
              "    border-radius: 50%;\n",
              "    cursor: pointer;\n",
              "    display: none;\n",
              "    fill: var(--fill-color);\n",
              "    height: 32px;\n",
              "    padding: 0;\n",
              "    width: 32px;\n",
              "  }\n",
              "\n",
              "  .colab-df-quickchart:hover {\n",
              "    background-color: var(--hover-bg-color);\n",
              "    box-shadow: 0 1px 2px rgba(60, 64, 67, 0.3), 0 1px 3px 1px rgba(60, 64, 67, 0.15);\n",
              "    fill: var(--button-hover-fill-color);\n",
              "  }\n",
              "\n",
              "  .colab-df-quickchart-complete:disabled,\n",
              "  .colab-df-quickchart-complete:disabled:hover {\n",
              "    background-color: var(--disabled-bg-color);\n",
              "    fill: var(--disabled-fill-color);\n",
              "    box-shadow: none;\n",
              "  }\n",
              "\n",
              "  .colab-df-spinner {\n",
              "    border: 2px solid var(--fill-color);\n",
              "    border-color: transparent;\n",
              "    border-bottom-color: var(--fill-color);\n",
              "    animation:\n",
              "      spin 1s steps(1) infinite;\n",
              "  }\n",
              "\n",
              "  @keyframes spin {\n",
              "    0% {\n",
              "      border-color: transparent;\n",
              "      border-bottom-color: var(--fill-color);\n",
              "      border-left-color: var(--fill-color);\n",
              "    }\n",
              "    20% {\n",
              "      border-color: transparent;\n",
              "      border-left-color: var(--fill-color);\n",
              "      border-top-color: var(--fill-color);\n",
              "    }\n",
              "    30% {\n",
              "      border-color: transparent;\n",
              "      border-left-color: var(--fill-color);\n",
              "      border-top-color: var(--fill-color);\n",
              "      border-right-color: var(--fill-color);\n",
              "    }\n",
              "    40% {\n",
              "      border-color: transparent;\n",
              "      border-right-color: var(--fill-color);\n",
              "      border-top-color: var(--fill-color);\n",
              "    }\n",
              "    60% {\n",
              "      border-color: transparent;\n",
              "      border-right-color: var(--fill-color);\n",
              "    }\n",
              "    80% {\n",
              "      border-color: transparent;\n",
              "      border-right-color: var(--fill-color);\n",
              "      border-bottom-color: var(--fill-color);\n",
              "    }\n",
              "    90% {\n",
              "      border-color: transparent;\n",
              "      border-bottom-color: var(--fill-color);\n",
              "    }\n",
              "  }\n",
              "</style>\n",
              "\n",
              "  <script>\n",
              "    async function quickchart(key) {\n",
              "      const quickchartButtonEl =\n",
              "        document.querySelector('#' + key + ' button');\n",
              "      quickchartButtonEl.disabled = true;  // To prevent multiple clicks.\n",
              "      quickchartButtonEl.classList.add('colab-df-spinner');\n",
              "      try {\n",
              "        const charts = await google.colab.kernel.invokeFunction(\n",
              "            'suggestCharts', [key], {});\n",
              "      } catch (error) {\n",
              "        console.error('Error during call to suggestCharts:', error);\n",
              "      }\n",
              "      quickchartButtonEl.classList.remove('colab-df-spinner');\n",
              "      quickchartButtonEl.classList.add('colab-df-quickchart-complete');\n",
              "    }\n",
              "    (() => {\n",
              "      let quickchartButtonEl =\n",
              "        document.querySelector('#df-abb1a680-a7de-486d-b0bf-44a3cc723301 button');\n",
              "      quickchartButtonEl.style.display =\n",
              "        google.colab.kernel.accessAllowed ? 'block' : 'none';\n",
              "    })();\n",
              "  </script>\n",
              "</div>\n",
              "\n",
              "    </div>\n",
              "  </div>\n"
            ],
            "application/vnd.google.colaboratory.intrinsic+json": {
              "type": "dataframe",
              "variable_name": "df"
            }
          },
          "metadata": {},
          "execution_count": 10
        }
      ]
    },
    {
      "cell_type": "markdown",
      "source": [
        "*Make sure the column names and values are relative to what you expected to see before continuing!*"
      ],
      "metadata": {
        "id": "mgj0V55uVwp6"
      }
    },
    {
      "cell_type": "markdown",
      "source": [
        "# **Step 3: Filter for the Relevant System Types** ✅\n",
        "\n",
        "In this process, we are only interested in looking at **utility** and **generator** systems.\n",
        "\n",
        "Analyze and run the code below:"
      ],
      "metadata": {
        "id": "itFBumvXWZT-"
      }
    },
    {
      "cell_type": "code",
      "source": [
        "# Load the dataframe\n",
        "df = pd.read_csv('Cooling_Boiler_Generator_Data_Summary_2023.csv')\n",
        "\n",
        "# 'Utility ID' is in the sixth column and 'Generator ID' is in the eighth\n",
        "df_subset = df.iloc[:, [6, 8]]  # Select columns by index\n",
        "\n",
        "# Rename the columns if desired\n",
        "df_subset.columns = ['Utility ID', 'Generator ID']\n",
        "\n",
        "print(df_subset.head())  # Print the first few rows of the subset dataframe"
      ],
      "metadata": {
        "colab": {
          "base_uri": "https://localhost:8080/"
        },
        "id": "7WvGRZ57WkBt",
        "outputId": "4e8c7b59-3759-4bbc-daad-599e2f76c17d"
      },
      "execution_count": null,
      "outputs": [
        {
          "output_type": "stream",
          "name": "stdout",
          "text": [
            "     Utility ID Generator ID\n",
            "0           NaN          NaN\n",
            "1  Generator ID   Cooling ID\n",
            "2          Many          1-3\n",
            "3          Many          1-3\n",
            "4          Many          1-3\n"
          ]
        },
        {
          "output_type": "stream",
          "name": "stderr",
          "text": [
            "<ipython-input-44-49ab7f43ae7b>:2: DtypeWarning: Columns (0,2,4,5,46,47,48,49,56,57,58,59,65,66,67,68) have mixed types. Specify dtype option on import or set low_memory=False.\n",
            "  df = pd.read_csv('Cooling_Boiler_Generator_Data_Summary_2023.csv')\n"
          ]
        }
      ]
    },
    {
      "cell_type": "markdown",
      "source": [
        "# **Step 4: Exporting the Subset as a New CSV File** ✅\n",
        "\n",
        "Now, we have our refined data subset. Let's export it into a clean, compiled **CSV** file.\n",
        "\n",
        "Run the code below:"
      ],
      "metadata": {
        "id": "Bsv77N7Daju1"
      }
    },
    {
      "cell_type": "code",
      "source": [
        "df_subset.to_csv('compiled_utility_generator_subset.csv', index=False) #index=False prevents pandas from adding an extra column"
      ],
      "metadata": {
        "id": "ENgkKHvRasGF"
      },
      "execution_count": null,
      "outputs": []
    },
    {
      "cell_type": "markdown",
      "source": [
        "This code will create a new file called *compiled_utility_generator_subset.csv*, containing only the two relevant columns."
      ],
      "metadata": {
        "id": "jahCA1GXdWwZ"
      }
    },
    {
      "cell_type": "markdown",
      "source": [
        "# **Step 6: Download the New CSV File** ✅\n",
        "\n",
        "To download your file in Colab:\n",
        "\n",
        "\n",
        "* Click the folder icon in the left sidebar\n",
        "* Locate compiled_utility_generator_subset.csv\n",
        "* Click the three dots > Download"
      ],
      "metadata": {
        "id": "wUoMc9bedsFG"
      }
    },
    {
      "cell_type": "markdown",
      "source": [
        "You have now successfully compiled a clean subset of the original dataset, isolating only the Utility ID and Generator ID columns for more targeted analysis! 🎊\n",
        "\n",
        "\n"
      ],
      "metadata": {
        "id": "q1PPwOBMeYSL"
      }
    }
  ]
}